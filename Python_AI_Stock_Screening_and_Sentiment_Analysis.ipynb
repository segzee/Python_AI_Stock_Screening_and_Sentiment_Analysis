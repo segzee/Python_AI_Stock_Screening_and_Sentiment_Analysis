{
  "nbformat": 4,
  "nbformat_minor": 0,
  "metadata": {
    "colab": {
      "provenance": []
    },
    "kernelspec": {
      "name": "python3",
      "display_name": "Python 3"
    },
    "language_info": {
      "name": "python"
    }
  },
  "cells": [
    {
      "cell_type": "markdown",
      "source": [
        "# Python / AI Stock Screening and Sentiment Analysis\n",
        "\n",
        "Looking for promising stocks to invest in can take a lot of time. What if we could use artificial intelligence (A.I.) and Python to make this process faster? In this article, I'll show you how to use the finvizfinance Python library to find stocks that might be undervalued. Then, I'll explain a simple way to analyze the sentiment (feelings) about these stocks using FinBERT, a pre-trained natural language processing (NLP) model.\n",
        "\n",
        "Let's get started!\n",
        "\n",
        "First, you'll need to install some libraries and bring them into your project. finviz.com is a website that provides tools for analyzing stocks, including a free stock screener. Here, we'll use the finvizfinance library to fetch information from the screener's 'Overview' section and store it in a Pandas data frame. This will help us quickly see the results of our stock analysis."
      ],
      "metadata": {
        "id": "X27oPblxvyhp"
      }
    },
    {
      "cell_type": "code",
      "execution_count": null,
      "metadata": {
        "colab": {
          "base_uri": "https://localhost:8080/"
        },
        "id": "pExe9cZY3oJ3",
        "outputId": "efc61562-1293-43bc-9c77-d90602cb8901"
      },
      "outputs": [
        {
          "output_type": "stream",
          "name": "stdout",
          "text": [
            "Requirement already satisfied: finvizfinance in /usr/local/lib/python3.10/dist-packages (0.14.7)\n",
            "Requirement already satisfied: pandas in /usr/local/lib/python3.10/dist-packages (from finvizfinance) (1.5.3)\n",
            "Requirement already satisfied: datetime in /usr/local/lib/python3.10/dist-packages (from finvizfinance) (5.4)\n",
            "Requirement already satisfied: requests in /usr/local/lib/python3.10/dist-packages (from finvizfinance) (2.31.0)\n",
            "Requirement already satisfied: bs4 in /usr/local/lib/python3.10/dist-packages (from finvizfinance) (0.0.1)\n",
            "Requirement already satisfied: lxml in /usr/local/lib/python3.10/dist-packages (from finvizfinance) (4.9.4)\n",
            "Requirement already satisfied: beautifulsoup4 in /usr/local/lib/python3.10/dist-packages (from bs4->finvizfinance) (4.11.2)\n",
            "Requirement already satisfied: zope.interface in /usr/local/lib/python3.10/dist-packages (from datetime->finvizfinance) (6.1)\n",
            "Requirement already satisfied: pytz in /usr/local/lib/python3.10/dist-packages (from datetime->finvizfinance) (2023.3.post1)\n",
            "Requirement already satisfied: python-dateutil>=2.8.1 in /usr/local/lib/python3.10/dist-packages (from pandas->finvizfinance) (2.8.2)\n",
            "Requirement already satisfied: numpy>=1.21.0 in /usr/local/lib/python3.10/dist-packages (from pandas->finvizfinance) (1.23.5)\n",
            "Requirement already satisfied: charset-normalizer<4,>=2 in /usr/local/lib/python3.10/dist-packages (from requests->finvizfinance) (3.3.2)\n",
            "Requirement already satisfied: idna<4,>=2.5 in /usr/local/lib/python3.10/dist-packages (from requests->finvizfinance) (3.6)\n",
            "Requirement already satisfied: urllib3<3,>=1.21.1 in /usr/local/lib/python3.10/dist-packages (from requests->finvizfinance) (2.0.7)\n",
            "Requirement already satisfied: certifi>=2017.4.17 in /usr/local/lib/python3.10/dist-packages (from requests->finvizfinance) (2023.11.17)\n",
            "Requirement already satisfied: six>=1.5 in /usr/local/lib/python3.10/dist-packages (from python-dateutil>=2.8.1->pandas->finvizfinance) (1.16.0)\n",
            "Requirement already satisfied: soupsieve>1.2 in /usr/local/lib/python3.10/dist-packages (from beautifulsoup4->bs4->finvizfinance) (2.5)\n",
            "Requirement already satisfied: setuptools in /usr/local/lib/python3.10/dist-packages (from zope.interface->datetime->finvizfinance) (67.7.2)\n"
          ]
        }
      ],
      "source": [
        "pip install finvizfinance"
      ]
    },
    {
      "cell_type": "markdown",
      "source": [
        "# Install the libary finvizfinance"
      ],
      "metadata": {
        "id": "fbjX1rdnxwIl"
      }
    },
    {
      "cell_type": "code",
      "source": [
        "from finvizfinance.screener.overview import Overview"
      ],
      "metadata": {
        "id": "PM4wmb_93thv"
      },
      "execution_count": null,
      "outputs": []
    },
    {
      "cell_type": "markdown",
      "source": [
        "This class is part of the finvizfinance library and is typically used to access the Finviz screener's overview functionality. With this class, you can retrieve information about stocks based on specified filters, making it easier to analyze and identify potential investment opportunities."
      ],
      "metadata": {
        "id": "SuALl9uHyaor"
      }
    },
    {
      "cell_type": "code",
      "source": [
        "import pandas as pd\n",
        "import csv\n",
        "import os"
      ],
      "metadata": {
        "id": "JbucgOlc3tnH"
      },
      "execution_count": null,
      "outputs": []
    },
    {
      "cell_type": "markdown",
      "source": [
        "You've imported the pandas library and the csv and os modules. Here's a brief explanation of each:\n",
        "\n",
        "pandas as pd: This alias pd is commonly used for the pandas library. pandas is a powerful data manipulation and analysis library in Python, and it provides data structures like DataFrames that are useful for handling and analyzing tabular data.\n",
        "\n",
        "csv: This module provides functionality to work with CSV (Comma-Separated Values) files. It allows you to read from and write to CSV files, which are commonly used for storing tabular data.\n",
        "\n",
        "os: This module provides a way to interact with the operating system. It includes functions to perform various operations related to the file system, such as creating directories (os.makedirs()), checking if a file or directory exists (os.path.exists()), and more."
      ],
      "metadata": {
        "id": "T-sbt_iqybYF"
      }
    },
    {
      "cell_type": "code",
      "source": [
        "def get_undervalued_stocks():\n",
        "    \"\"\"\n",
        "    Returns a list of tickers with:\n",
        "\n",
        "    - Positive Operating Margin\n",
        "    - Debt-to-Equity ratio under 1\n",
        "    - Low P/B (under 1)\n",
        "    - Low P/E ratio (under 15)\n",
        "    - Low PEG ratio (under 1)\n",
        "    - Positive Insider Transactions\n",
        "    - Market Cap.': 'Small ($300mln to $2bln)'\n",
        "    \"\"\"\n",
        "    foverview = Overview()"
      ],
      "metadata": {
        "id": "NR-xM73E3tr4"
      },
      "execution_count": null,
      "outputs": []
    },
    {
      "cell_type": "markdown",
      "source": [
        "# undervalued_stocks function\n",
        "The function get_undervalued_stocks() aims to return a list of stock tickers that meet specific criteria indicating potentially undervalued stocks. Let's break down each criterion:\n",
        "\n",
        "# Positive Operating Margin:\n",
        "\n",
        "An operating margin is a profitability ratio that measures the percentage of revenue remaining after covering operating expenses. A positive operating margin suggests that a company is generating profit from its core operations.\n",
        "\n",
        "# Debt-to-Equity Ratio under 1:\n",
        "\n",
        "The debt-to-equity ratio is a financial metric that compares a company's total debt to its shareholders' equity. A ratio under 1 indicates that the company has less debt relative to its equity, which can be considered a positive financial sign.\n",
        "\n",
        "# Low Price-to-Book (P/B) Ratio (under 1):\n",
        "\n",
        "The price-to-book ratio compares a company's market value to its book value (assets minus liabilities). A ratio under 1 suggests that the stock may be undervalued relative to its book value.\n",
        "\n",
        "# Low Price-to-Earnings (P/E) Ratio (under 15):\n",
        "\n",
        "The price-to-earnings ratio compares a company's current stock price to its earnings per share. A low P/E ratio relative to industry peers or historical values may indicate an undervalued stock.\n",
        "\n",
        "# Low Price/Earnings to Growth (PEG) Ratio (under 1):\n",
        "\n",
        "The PEG ratio adjusts the traditional P/E ratio by factoring in the expected earnings growth rate. A PEG ratio under 1 is often considered favorable, indicating that the stock may be undervalued relative to its expected growth.\n",
        "\n",
        "# Positive Insider Transactions:\n",
        "\n",
        "Positive insider transactions indicate that company insiders (such as executives or employees) are buying shares of the company, which could be seen as a positive sign.\n",
        "\n",
        "# Market Cap in the Range of 'Small' ($300 million to $2 billion):\n",
        "\n",
        "Market capitalization (market cap) is the total market value of a company's outstanding shares of stock. 'Small' market cap, in this context, falls within the range of $300 million to $2 billion. Companies with smaller market caps may have more growth potential.\n",
        "It's important to note that these criteria are commonly used in fundamental analysis to identify potentially undervalued stocks. The Overview() object from the finvizfinance library is likely used to retrieve stock information and filter stocks based on these criteria."
      ],
      "metadata": {
        "id": "P1LZwcDa4m0D"
      }
    },
    {
      "cell_type": "code",
      "source": [
        "def get_undervalued_stocks():\n",
        "    foverview = Overview()\n",
        "\n",
        "    filters_dict = {'Debt/Equity': 'Under 1',\n",
        "                    'PEG': 'Low (<1)',\n",
        "                    'Operating Margin': 'Positive (>0%)',\n",
        "                    'P/B': 'Low (<1)',\n",
        "                    'P/E': 'Low (<15)',\n",
        "                    'InsiderTransactions': 'Positive (>0%)',\n",
        "                    'Market Cap.': 'Small ($300mln to $2bln)'} # \"Nano Cap ($50mln)\", \"Micro Cap $50mln to $300mln\", \"Mid Cap ($20mln to $10mln), \"\n",
        "\n",
        "    parameters = ['Exchange', 'Index', 'Sector', 'Industry', 'Country', 'Market Cap.',\n",
        "        'P/E', 'Forward P/E', 'PEG', 'P/S', 'P/B', 'Price/Cash', 'Price/Free Cash Flow',\n",
        "        'EPS growththis year', 'EPS growthnext year', 'EPS growthpast 5 years', 'EPS growthnext 5 years',\n",
        "        'Sales growthpast 5 years', 'EPS growthqtr over qtr', 'Sales growthqtr over qtr',\n",
        "        'Dividend Yield', 'Return on Assets', 'Return on Equity', 'Return on Investment',\n",
        "        'Current Ratio', 'Quick Ratio', 'LT Debt/Equity', 'Debt/Equity', 'Gross Margin',\n",
        "        'Operating Margin', 'Net Profit Margin', 'Payout Ratio', 'InsiderOwnership', 'InsiderTransactions',\n",
        "        'InstitutionalOwnership', 'InstitutionalTransactions', 'Float Short', 'Analyst Recom.',\n",
        "        'Option/Short', 'Earnings Date', 'Performance', 'Performance 2', 'Volatility', 'RSI (14)',\n",
        "        'Gap', '20-Day Simple Moving Average', '50-Day Simple Moving Average',\n",
        "        '200-Day Simple Moving Average', 'Change', 'Change from Open', '20-Day High/Low',\n",
        "        '50-Day High/Low', '52-Week High/Low', 'Pattern', 'Candlestick', 'Beta',\n",
        "        'Average True Range', 'Average Volume', 'Relative Volume', 'Current Volume',\n",
        "        'Price', 'Target Price', 'IPO Date', 'Shares Outstanding', 'Float']\n",
        "\n",
        "    foverview.set_filter(filters_dict=filters_dict)\n",
        "    df_overview = foverview.screener_view()\n",
        "\n",
        "    if not os.path.exists('out'):  # ensures you have an 'out' folder ready\n",
        "        os.makedirs('out')\n",
        "\n",
        "    df_overview.to_csv('out/Overview.csv', index=False)\n",
        "    tickers = df_overview['Ticker'].to_list()\n",
        "    return tickers\n",
        "\n",
        "print(get_undervalued_stocks())\n"
      ],
      "metadata": {
        "colab": {
          "base_uri": "https://localhost:8080/"
        },
        "id": "ZLaVX1j_MozN",
        "outputId": "ace6f7af-7eb5-4cdd-e4fb-4365f698c99d"
      },
      "execution_count": null,
      "outputs": [
        {
          "output_type": "stream",
          "name": "stdout",
          "text": [
            "[Info] loading page [##############################] 1/1 \r['BOOM', 'HAFC', 'HTLF', 'OCFC']\n"
          ]
        }
      ]
    },
    {
      "cell_type": "markdown",
      "source": [
        "# undervalued_stocks\n",
        "\n",
        "The code defines a Python function, get_undervalued_stocks, that uses the Finviz screener to fetch a list of potentially undervalued stocks based on specific criteria. The criteria include positive operating margin, a debt-to-equity ratio under 1, low P/B and P/E ratios, a low PEG ratio, positive insider transactions, and a market capitalization in the range of 'Small' ($300 million to $2 billion).\n",
        "\n",
        "Sets filters for the Finviz screener based on the defined criteria.\n",
        "Defines a list of parameters for stock information retrieval.h\n",
        "Applies the filters to the screener and retrieves data into a Pandas DataFrame.\n",
        "Checks if the 'out' directory exists and creates it if not.\n",
        "Saves the DataFrame to a CSV file ('Overview.csv') inside the 'out' directory.\n",
        "Extracts the 'Ticker' column from the DataFrame and returns a list of tickers.\n",
        "Prints the list of tickers returned by the function.\n",
        "This code helps automate the process of identifying undervalued stocks by applying specific filters and saving the results for further analysis.\n",
        "\n",
        "so the result of the code provide four undervalued stock using using the provide parameters which are ['BOOM', 'HAFC', 'HTLF', 'OCFC']\n",
        "\n",
        "  The full meaning are\n",
        "\n",
        "BOOM: DMC Global Inc.\n",
        "\n",
        "HAFC: Hanmi Financial Corporation.\n",
        "\n",
        "HTLF: Heartland Financial USA, Inc.\n",
        "\n",
        "OCFC: OceanFirst Financial Corp.\n",
        "\n",
        "fill free to play around with the parameters e.g it can be industry specific ('techonolgy' or ' real estate') that suite your need."
      ],
      "metadata": {
        "id": "taxftNmf8Ck4"
      }
    },
    {
      "cell_type": "code",
      "source": [
        "from transformers import pipeline"
      ],
      "metadata": {
        "id": "wJfO1RSm4s56"
      },
      "execution_count": null,
      "outputs": []
    },
    {
      "cell_type": "markdown",
      "source": [
        "# transformers library\n",
        "\n",
        "The line from transformers import pipeline imports the pipeline module from the transformers library. The transformers library is a popular open-source library provided by Hugging Face, designed for natural language processing (NLP) and machine learning tasks.\n",
        "\n",
        "In this context, the pipeline module is used to create a simple interface for various pre-trained models, making it easier to perform different NLP tasks without needing to manually load and configure models. The pipeline function allows you to create pipelines for tasks such as text classification, named entity recognition, sentiment analysis, and more, using pre-trained models from the Hugging Face model hub.\n",
        "\n",
        "For example, you might use pipeline(\"text-classification\", model=\"ProsusAI/finbert\") to create a pipeline for text classification using the FinBERT model."
      ],
      "metadata": {
        "id": "avzr0vVDFVxt"
      }
    },
    {
      "cell_type": "code",
      "source": [
        "import yfinance as yf"
      ],
      "metadata": {
        "id": "V3vq027q74Cv"
      },
      "execution_count": null,
      "outputs": []
    },
    {
      "cell_type": "markdown",
      "source": [
        "# yfinance library\n",
        "The line import yfinance as yf imports the yfinance library and assigns it the alias yf. yfinance is a popular Python library that provides a simple interface to download financial data from Yahoo Finance."
      ],
      "metadata": {
        "id": "NAMw7SRPGIj9"
      }
    },
    {
      "cell_type": "code",
      "source": [
        "pip install goose3"
      ],
      "metadata": {
        "colab": {
          "base_uri": "https://localhost:8080/"
        },
        "id": "fGeUquhmOCAL",
        "outputId": "e942e4e3-b0cf-4121-805c-675e00572526"
      },
      "execution_count": null,
      "outputs": [
        {
          "output_type": "stream",
          "name": "stdout",
          "text": [
            "Requirement already satisfied: goose3 in /usr/local/lib/python3.10/dist-packages (3.1.18)\n",
            "Requirement already satisfied: requests in /usr/local/lib/python3.10/dist-packages (from goose3) (2.31.0)\n",
            "Requirement already satisfied: Pillow in /usr/local/lib/python3.10/dist-packages (from goose3) (9.4.0)\n",
            "Requirement already satisfied: lxml in /usr/local/lib/python3.10/dist-packages (from goose3) (4.9.4)\n",
            "Requirement already satisfied: cssselect in /usr/local/lib/python3.10/dist-packages (from goose3) (1.2.0)\n",
            "Requirement already satisfied: beautifulsoup4 in /usr/local/lib/python3.10/dist-packages (from goose3) (4.11.2)\n",
            "Requirement already satisfied: python-dateutil in /usr/local/lib/python3.10/dist-packages (from goose3) (2.8.2)\n",
            "Requirement already satisfied: langdetect in /usr/local/lib/python3.10/dist-packages (from goose3) (1.0.9)\n",
            "Requirement already satisfied: pyahocorasick in /usr/local/lib/python3.10/dist-packages (from goose3) (2.0.0)\n",
            "Requirement already satisfied: soupsieve>1.2 in /usr/local/lib/python3.10/dist-packages (from beautifulsoup4->goose3) (2.5)\n",
            "Requirement already satisfied: six in /usr/local/lib/python3.10/dist-packages (from langdetect->goose3) (1.16.0)\n",
            "Requirement already satisfied: charset-normalizer<4,>=2 in /usr/local/lib/python3.10/dist-packages (from requests->goose3) (3.3.2)\n",
            "Requirement already satisfied: idna<4,>=2.5 in /usr/local/lib/python3.10/dist-packages (from requests->goose3) (3.6)\n",
            "Requirement already satisfied: urllib3<3,>=1.21.1 in /usr/local/lib/python3.10/dist-packages (from requests->goose3) (2.0.7)\n",
            "Requirement already satisfied: certifi>=2017.4.17 in /usr/local/lib/python3.10/dist-packages (from requests->goose3) (2023.11.17)\n"
          ]
        }
      ]
    },
    {
      "cell_type": "code",
      "source": [
        "from goose3 import Goose\n",
        "from requests import get"
      ],
      "metadata": {
        "id": "Jr89PqhP7_Uu"
      },
      "execution_count": null,
      "outputs": []
    },
    {
      "cell_type": "markdown",
      "source": [
        "# goose3 library\n",
        "\n",
        "goose3 is a Python library for extracting content from web pages (web scraping), and it's often used for extracting article content from news websites.\n",
        "\n",
        "The requests library is a popular Python library for making HTTP requests. The get function, in particular, is commonly used to send HTTP GET requests to retrieve information from a specified URL."
      ],
      "metadata": {
        "id": "Pw7ldSmtHDEY"
      }
    },
    {
      "cell_type": "code",
      "source": [
        "def get_ticker_news_sentiment(tickers):\n",
        "    data = []\n",
        "\n",
        "    for ticker in tickers:\n",
        "        try:\n",
        "            ticker_news = yf.Ticker(ticker)\n",
        "            news_list = ticker_news.get_news()\n",
        "\n",
        "            if not news_list:\n",
        "                print(f\"No news found for {ticker}\")\n",
        "                continue\n",
        "\n",
        "            extractor = Goose()\n",
        "            pipe = pipeline(\"text-classification\", model=\"ProsusAI/finbert\")\n",
        "\n",
        "            for dic in news_list:\n",
        "                title = dic['title']\n",
        "                response = get(dic['link'])\n",
        "                article = extractor.extract(raw_html=response.content)\n",
        "                text = article.cleaned_text\n",
        "                date = article.publish_date\n",
        "\n",
        "                if len(text) > 512:\n",
        "                    data.append({'Ticker': ticker,\n",
        "                                 'Date': f'{date}',\n",
        "                                 'Article title': f'{title}',\n",
        "                                 'Article sentiment': 'NaN too long'})\n",
        "                else:\n",
        "                    results = pipe(text)\n",
        "                    data.append({'Ticker': ticker,\n",
        "                                 'Date': f'{date}',\n",
        "                                 'Article title': f'{title}',\n",
        "                                 'Article sentiment': results[0]['label']})\n",
        "\n",
        "        except Exception as e:\n",
        "            print(f\"Error processing {ticker}: {e}\")\n",
        "\n",
        "    df = pd.DataFrame(data)\n",
        "    return df\n",
        "\n",
        "# Example usage\n",
        "ticker_sentiment_df = get_ticker_news_sentiment((get_undervalued_stocks()))\n",
        "print(ticker_sentiment_df)"
      ],
      "metadata": {
        "id": "g4YtGQfE7_Pa",
        "colab": {
          "base_uri": "https://localhost:8080/"
        },
        "outputId": "29dbdf97-a9ec-4fed-e73f-5011fe607a0b"
      },
      "execution_count": null,
      "outputs": [
        {
          "output_type": "stream",
          "name": "stdout",
          "text": [
            "[Info] loading page [##############################] 1/1 \r"
          ]
        },
        {
          "output_type": "stream",
          "name": "stderr",
          "text": [
            "/usr/local/lib/python3.10/dist-packages/huggingface_hub/utils/_token.py:72: UserWarning: \n",
            "The secret `HF_TOKEN` does not exist in your Colab secrets.\n",
            "To authenticate with the Hugging Face Hub, create a token in your settings tab (https://huggingface.co/settings/tokens), set it as secret in your Google Colab and restart your session.\n",
            "You will be able to reuse this secret in all of your notebooks.\n",
            "Please note that authentication is recommended but still optional to access public models or datasets.\n",
            "  warnings.warn(\n"
          ]
        },
        {
          "output_type": "stream",
          "name": "stdout",
          "text": [
            "   Ticker                      Date  \\\n",
            "0    BOOM  2023-12-24T14:59:38.000Z   \n",
            "1    BOOM  2023-12-03T12:57:03.000Z   \n",
            "2    BOOM                      None   \n",
            "3    BOOM                      None   \n",
            "4    BOOM                      None   \n",
            "5    BOOM                      None   \n",
            "6    BOOM                      None   \n",
            "7    BOOM                      None   \n",
            "8    HAFC  2023-12-06T14:00:00.000Z   \n",
            "9    HAFC                      None   \n",
            "10   HAFC                      None   \n",
            "11   HAFC                      None   \n",
            "12   HAFC                      None   \n",
            "13   HAFC                      None   \n",
            "14   HAFC                      None   \n",
            "15   HAFC                      None   \n",
            "16   HTLF  2023-12-13T14:51:05.000Z   \n",
            "17   HTLF                      None   \n",
            "18   HTLF                      None   \n",
            "19   HTLF                      None   \n",
            "20   HTLF                      None   \n",
            "21   HTLF                      None   \n",
            "22   HTLF                      None   \n",
            "23   HTLF                      None   \n",
            "24   OCFC  2023-12-04T11:59:44.000Z   \n",
            "25   OCFC                      None   \n",
            "26   OCFC                      None   \n",
            "27   OCFC                      None   \n",
            "28   OCFC                      None   \n",
            "29   OCFC                      None   \n",
            "30   OCFC                      None   \n",
            "31   OCFC                      None   \n",
            "\n",
            "                                        Article title Article sentiment  \n",
            "0   DMC Global Inc. (NASDAQ:BOOM) is a favorite am...      NaN too long  \n",
            "1   DMC Global (NASDAQ:BOOM) Might Be Having Diffi...      NaN too long  \n",
            "2   Implied Volatility Surging for DMC Global (BOO...          positive  \n",
            "3   James O’Leary Appointed to DMC Global’s Board ...          positive  \n",
            "4   DMC Global Inc. (NASDAQ:BOOM) Q3 2023 Earnings...          positive  \n",
            "5   DMC Global (BOOM) Q3 Earnings: How Key Metrics...          positive  \n",
            "6   DMC Global Inc (BOOM) Reports Q3 2023 Earnings...          positive  \n",
            "7                    DMC Global: Q3 Earnings Snapshot          positive  \n",
            "8   Hanmi Bank Celebrates Grand Opening of Its New...      NaN too long  \n",
            "9   Hanmi Financial (NASDAQ:HAFC) Has Announced A ...          positive  \n",
            "10  Hanmi Financial Declares Cash Dividend of $0.2...          positive  \n",
            "11  Hanmi Financial Corporation (NASDAQ:HAFC) Q3 2...          positive  \n",
            "12  Hanmi Financial (HAFC) Loses -10.44% in 4 Week...          positive  \n",
            "13  Compared to Estimates, Hanmi Financial (HAFC) ...          positive  \n",
            "14  Hanmi Financial (HAFC) Beats Q3 Earnings and R...          positive  \n",
            "15              Hanmi Financial: Q3 Earnings Snapshot          positive  \n",
            "16  As Heartland Financial USA (NASDAQ:HTLF) advan...      NaN too long  \n",
            "17  Q3 2023 Heartland Financial USA Inc Earnings Call          positive  \n",
            "18  Heartland Financial USA, Inc. (NASDAQ:HTLF) Q3...          positive  \n",
            "19  Here's What Key Metrics Tell Us About Heartlan...          positive  \n",
            "20          Heartland Financial: Q3 Earnings Snapshot          positive  \n",
            "21  Heartland Financial USA, Inc. (\"HTLF\") Reports...          positive  \n",
            "22  Heartland Financial USA Inc (HTLF) Reports Q3 ...          positive  \n",
            "23  Positive Signs As Multiple Insiders Buy Heartl...          positive  \n",
            "24  After losing 32% in the past year, OceanFirst ...      NaN too long  \n",
            "25  OceanFirst Financial (NASDAQ:OCFC) Has Affirme...          positive  \n",
            "26  OceanFirst Financial Corp. (NASDAQ:OCFC) Q3 20...          positive  \n",
            "27  Pleasing Signs As A Number Of Insiders Buy Oce...          positive  \n",
            "28    Q3 2023 OceanFirst Financial Corp Earnings Call          positive  \n",
            "29  OceanFirst (OCFC) Q3 Earnings: How Key Metrics...          positive  \n",
            "30  OceanFirst Financial Corp (OCFC) Reports Q3 Ea...          positive  \n",
            "31  OceanFirst Financial (OCFC) Q3 Earnings and Re...          positive  \n"
          ]
        }
      ]
    },
    {
      "cell_type": "markdown",
      "source": [
        "The provided code defines a function get_ticker_news_sentiment that takes a list of stock tickers as input, retrieves news articles for each ticker using Yahoo Finance (yfinance library), performs sentiment analysis on the article text using the FinBERT model from Hugging Face (transformers library), and then constructs a Pandas DataFrame with the extracted information.\n",
        "\n",
        "Here's a summary of the code:\n",
        "\n",
        "# Function Definition:\n",
        "\n",
        "Name: get_ticker_news_sentiment\n",
        "Parameters: tickers (a list of stock tickers)\n",
        "\n",
        "# Process for Each Ticker:\n",
        "\n",
        "For each ticker in the input list:\n",
        "Retrieve news articles for the current ticker using Yahoo Finance (yf.Ticker(ticker).get_news()).\n",
        "If no news articles are found, print a message and move to the next ticker.\n",
        "Use the Goose library to extract information (title, text, date) from each news article.\n",
        "Perform sentiment analysis on the article text using the FinBERT model (pipeline(\"text-classification\", model=\"ProsusAI/finbert\")).\n",
        "Construct a dictionary with the ticker symbol, article date, title, and sentiment, and append it to the data list.\n",
        "If the article text is too long (exceeds 512 characters), set the sentiment as 'NaN too long'.\n",
        "Handle exceptions and print error messages if encountered.\n",
        "\n",
        "# DataFrame Construction:\n",
        "\n",
        "Create a Pandas DataFrame (df) from the accumulated data list.\n",
        "Return the DataFrame.\n",
        "\n",
        "# Example Usage:\n",
        "\n",
        "Call get_ticker_news_sentiment with a list of undervalued stocks obtained from the get_undervalued_stocks function.\n",
        "Print the resulting DataFrame.\n",
        "The code effectively combines financial data retrieval using Yahoo Finance with natural language processing techniques to analyze news sentiment for a given list of stock tickers. It handles exceptions gracefully and provides an example of usage with undervalued stocks."
      ],
      "metadata": {
        "id": "LpRcVeg0IbNm"
      }
    },
    {
      "cell_type": "code",
      "source": [
        "def generate_csv(ticker):\n",
        "    get_ticker_news_sentiment(ticker).to_csv(f'out/{ticker}.csv', index=False)"
      ],
      "metadata": {
        "id": "tdouN0nJ8Gle"
      },
      "execution_count": null,
      "outputs": []
    },
    {
      "cell_type": "markdown",
      "source": [
        "The function generate_csv takes a stock ticker as input, uses the get_ticker_news_sentiment function to retrieve sentiment information for news articles related to that ticker, and then saves the result as a CSV file in the 'out' directory with the filename as '{ticker}.csv'."
      ],
      "metadata": {
        "id": "S9za_2kqQYSU"
      }
    },
    {
      "cell_type": "code",
      "source": [
        "undervalued = get_undervalued_stocks()\n",
        "for ticker in undervalued:\n",
        "    generate_csv(ticker)"
      ],
      "metadata": {
        "id": "xFBUb6kY8Ges"
      },
      "execution_count": null,
      "outputs": []
    },
    {
      "cell_type": "markdown",
      "source": [
        "The provided code block retrieves a list of undervalued stocks using the get_undervalued_stocks function and then generates individual CSV files for sentiment analysis results for each stock in the list using the generate_csv function"
      ],
      "metadata": {
        "id": "2ubywRdJQwC1"
      }
    }
  ]
}